{
  "cells": [
    {
      "cell_type": "markdown",
      "id": "8f8d056b",
      "metadata": {
        "id": "8f8d056b"
      },
      "source": [
        "# Random Forest"
      ]
    },
    {
      "cell_type": "code",
      "execution_count": null,
      "id": "cb7d7f37",
      "metadata": {
        "id": "cb7d7f37"
      },
      "outputs": [],
      "source": [
        "from sklearn.ensemble import RandomForestClassifier"
      ]
    },
    {
      "cell_type": "code",
      "execution_count": null,
      "id": "99140e4e",
      "metadata": {
        "id": "99140e4e"
      },
      "outputs": [],
      "source": [
        "ran = RandomForestClassifier(n_estimators=15)"
      ]
    },
    {
      "cell_type": "code",
      "execution_count": null,
      "id": "9ca3fdcd",
      "metadata": {
        "id": "9ca3fdcd",
        "outputId": "cfcc14dd-74e2-4e0e-fa74-d23c7b80c652"
      },
      "outputs": [
        {
          "data": {
            "text/plain": [
              "RandomForestClassifier(n_estimators=15)"
            ]
          },
          "execution_count": 15,
          "metadata": {},
          "output_type": "execute_result"
        }
      ],
      "source": [
        "ran.fit(x,y)"
      ]
    },
    {
      "cell_type": "code",
      "execution_count": null,
      "id": "525c42fe",
      "metadata": {
        "id": "525c42fe",
        "outputId": "99ba3626-e33d-43ff-ba3a-90c7ba9d61e9"
      },
      "outputs": [
        {
          "data": {
            "text/plain": [
              "array(['Yes'], dtype=object)"
            ]
          },
          "execution_count": 16,
          "metadata": {},
          "output_type": "execute_result"
        }
      ],
      "source": [
        "ran.predict([[1,0,1]])"
      ]
    },
    {
      "cell_type": "code",
      "execution_count": null,
      "id": "f5babf51",
      "metadata": {
        "id": "f5babf51",
        "outputId": "b623092c-b6a3-4194-9262-c6f181b8b107"
      },
      "outputs": [
        {
          "data": {
            "text/plain": [
              "array(['No'], dtype=object)"
            ]
          },
          "execution_count": 17,
          "metadata": {},
          "output_type": "execute_result"
        }
      ],
      "source": [
        "ran.predict([[0,1,0]])"
      ]
    },
    {
      "cell_type": "code",
      "execution_count": null,
      "id": "de29bfc4",
      "metadata": {
        "id": "de29bfc4"
      },
      "outputs": [],
      "source": []
    },
    {
      "cell_type": "markdown",
      "id": "f7febbe2",
      "metadata": {
        "id": "f7febbe2"
      },
      "source": [
        "# Save Machine Learning Models"
      ]
    },
    {
      "cell_type": "code",
      "execution_count": null,
      "id": "f9edb713",
      "metadata": {
        "id": "f9edb713"
      },
      "outputs": [],
      "source": [
        "import pickle as pk\n",
        "\n",
        "with open('My_Model1','wb') as file:\n",
        "    pk.dump(ran,file)"
      ]
    },
    {
      "cell_type": "code",
      "execution_count": null,
      "id": "4e31af7e",
      "metadata": {
        "id": "4e31af7e"
      },
      "outputs": [],
      "source": [
        "with open('My_Model1','rb') as file:\n",
        "    model1 = pk.load(file)"
      ]
    },
    {
      "cell_type": "code",
      "execution_count": null,
      "id": "b94ba55a",
      "metadata": {
        "id": "b94ba55a",
        "outputId": "8957bc92-732a-4259-f428-5c26e9c4ca09"
      },
      "outputs": [
        {
          "data": {
            "text/plain": [
              "array(['Yes'], dtype=object)"
            ]
          },
          "execution_count": 20,
          "metadata": {},
          "output_type": "execute_result"
        }
      ],
      "source": [
        "model1.predict([[1,0,1]])"
      ]
    },
    {
      "cell_type": "code",
      "execution_count": null,
      "id": "60cdf548",
      "metadata": {
        "id": "60cdf548",
        "outputId": "1d2484af-822a-4147-b5ed-7ebf3a84cae6"
      },
      "outputs": [
        {
          "data": {
            "text/plain": [
              "'C:\\\\Users\\\\study mart\\\\Downloads\\\\New Folder'"
            ]
          },
          "execution_count": 21,
          "metadata": {},
          "output_type": "execute_result"
        }
      ],
      "source": [
        "import os\n",
        "os.getcwd()"
      ]
    },
    {
      "cell_type": "code",
      "execution_count": null,
      "id": "ed465725",
      "metadata": {
        "id": "ed465725"
      },
      "outputs": [],
      "source": [
        "pk.dump(ran,open('My_Model2','wb'))"
      ]
    },
    {
      "cell_type": "code",
      "execution_count": null,
      "id": "b319f8ca",
      "metadata": {
        "id": "b319f8ca"
      },
      "outputs": [],
      "source": [
        "model2 = pk.load(open('My_Model2','rb'))"
      ]
    },
    {
      "cell_type": "code",
      "execution_count": null,
      "id": "35a79a67",
      "metadata": {
        "id": "35a79a67",
        "outputId": "0c32d567-5992-4334-c687-574466954c26"
      },
      "outputs": [
        {
          "data": {
            "text/plain": [
              "array(['No'], dtype=object)"
            ]
          },
          "execution_count": 24,
          "metadata": {},
          "output_type": "execute_result"
        }
      ],
      "source": [
        "model2.predict([[0,1,0]])"
      ]
    },
    {
      "cell_type": "code",
      "execution_count": null,
      "id": "7b292b64",
      "metadata": {
        "id": "7b292b64"
      },
      "outputs": [],
      "source": []
    },
    {
      "cell_type": "markdown",
      "id": "49ae4874",
      "metadata": {
        "id": "49ae4874"
      },
      "source": [
        "# Joblib"
      ]
    },
    {
      "cell_type": "code",
      "execution_count": null,
      "id": "0a9782b1",
      "metadata": {
        "id": "0a9782b1",
        "outputId": "61e0d5ef-a388-4c22-f214-267b6e27468e"
      },
      "outputs": [
        {
          "data": {
            "text/plain": [
              "['My_Model3']"
            ]
          },
          "execution_count": 25,
          "metadata": {},
          "output_type": "execute_result"
        }
      ],
      "source": [
        "import joblib as jbl\n",
        "\n",
        "jbl.dump(ran,'My_Model3')"
      ]
    },
    {
      "cell_type": "code",
      "execution_count": null,
      "id": "d2acfb96",
      "metadata": {
        "id": "d2acfb96"
      },
      "outputs": [],
      "source": [
        "model3 = jbl.load('My_Model3')"
      ]
    },
    {
      "cell_type": "code",
      "execution_count": null,
      "id": "2768c18e",
      "metadata": {
        "id": "2768c18e",
        "outputId": "0d82aa68-47a9-4c22-8250-7a1b73e47064"
      },
      "outputs": [
        {
          "data": {
            "text/plain": [
              "array(['No'], dtype=object)"
            ]
          },
          "execution_count": 27,
          "metadata": {},
          "output_type": "execute_result"
        }
      ],
      "source": [
        "model3.predict([[0,1,0]])"
      ]
    },
    {
      "cell_type": "markdown",
      "id": "176e33a0",
      "metadata": {
        "id": "176e33a0"
      },
      "source": [
        "# Access File From Diffrent Folder"
      ]
    },
    {
      "cell_type": "code",
      "execution_count": null,
      "id": "14390d9c",
      "metadata": {
        "id": "14390d9c",
        "outputId": "bbc0c539-17b6-4855-8ba8-8a23a05cf627"
      },
      "outputs": [
        {
          "data": {
            "text/plain": [
              "'C:\\\\Users\\\\study mart\\\\Downloads\\\\New Folder'"
            ]
          },
          "execution_count": 28,
          "metadata": {},
          "output_type": "execute_result"
        }
      ],
      "source": [
        "import os\n",
        "os.getcwd()"
      ]
    },
    {
      "cell_type": "code",
      "execution_count": null,
      "id": "60a7b572",
      "metadata": {
        "id": "60a7b572"
      },
      "outputs": [],
      "source": [
        "os.chdir('C:\\\\Users\\\\study mart\\\\Downloads\\\\new 2')"
      ]
    },
    {
      "cell_type": "code",
      "execution_count": null,
      "id": "756553a7",
      "metadata": {
        "id": "756553a7",
        "outputId": "614990f6-174c-4e95-e768-8f82a9247be9"
      },
      "outputs": [
        {
          "data": {
            "text/plain": [
              "'C:\\\\Users\\\\study mart\\\\Downloads\\\\new 2'"
            ]
          },
          "execution_count": 30,
          "metadata": {},
          "output_type": "execute_result"
        }
      ],
      "source": [
        "os.getcwd()"
      ]
    },
    {
      "cell_type": "code",
      "execution_count": null,
      "id": "d1eb0e87",
      "metadata": {
        "id": "d1eb0e87"
      },
      "outputs": [],
      "source": [
        "with open('My_Model1','rb') as file:\n",
        "    model4 = pk.load(file)"
      ]
    },
    {
      "cell_type": "code",
      "execution_count": null,
      "id": "9df5e9fc",
      "metadata": {
        "id": "9df5e9fc",
        "outputId": "e45e0b70-0f82-44a3-8774-be31c652059f"
      },
      "outputs": [
        {
          "data": {
            "text/plain": [
              "array(['No'], dtype=object)"
            ]
          },
          "execution_count": 32,
          "metadata": {},
          "output_type": "execute_result"
        }
      ],
      "source": [
        "model4.predict([[0,1,0]])"
      ]
    }
  ],
  "metadata": {
    "kernelspec": {
      "display_name": "Python 3",
      "language": "python",
      "name": "python3"
    },
    "language_info": {
      "codemirror_mode": {
        "name": "ipython",
        "version": 3
      },
      "file_extension": ".py",
      "mimetype": "text/x-python",
      "name": "python",
      "nbconvert_exporter": "python",
      "pygments_lexer": "ipython3",
      "version": "3.8.8"
    },
    "colab": {
      "provenance": []
    }
  },
  "nbformat": 4,
  "nbformat_minor": 5
}