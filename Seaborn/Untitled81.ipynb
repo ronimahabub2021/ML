{
  "nbformat": 4,
  "nbformat_minor": 0,
  "metadata": {
    "colab": {
      "private_outputs": true,
      "provenance": []
    },
    "kernelspec": {
      "name": "python3",
      "display_name": "Python 3"
    },
    "language_info": {
      "name": "python"
    }
  },
  "cells": [
    {
      "cell_type": "code",
      "execution_count": null,
      "metadata": {
        "id": "9KZ8coool4-p"
      },
      "outputs": [],
      "source": [
        "import seaborn as sns\n",
        "import pandas as pd"
      ]
    },
    {
      "cell_type": "markdown",
      "source": [
        "# **Non-catagorical Plot**\n"
      ],
      "metadata": {
        "id": "78GR9I9_s-MF"
      }
    },
    {
      "cell_type": "code",
      "source": [
        "tips=sns.load_dataset('tips')"
      ],
      "metadata": {
        "id": "zVbbh9ehmDT5"
      },
      "execution_count": null,
      "outputs": []
    },
    {
      "cell_type": "code",
      "source": [
        "tips.head()"
      ],
      "metadata": {
        "id": "YbeHviB1mJmt"
      },
      "execution_count": null,
      "outputs": []
    },
    {
      "cell_type": "code",
      "source": [
        "sns.histplot(tips['total_bill'],kde=True,bins=15) #kernal density estimation use for probability distribution"
      ],
      "metadata": {
        "id": "66n4RolnmLk0"
      },
      "execution_count": null,
      "outputs": []
    },
    {
      "cell_type": "code",
      "source": [
        "sns.histplot(tips['total_bill'],kde=True)"
      ],
      "metadata": {
        "id": "r07hK0VCmyLE"
      },
      "execution_count": null,
      "outputs": []
    },
    {
      "cell_type": "code",
      "source": [
        "sns.kdeplot(tips['total_bill'],fill=True)"
      ],
      "metadata": {
        "id": "frAUe0Gaomfi"
      },
      "execution_count": null,
      "outputs": []
    },
    {
      "cell_type": "code",
      "source": [
        "sns.jointplot(x='total_bill',y='tip',data=tips,kind='hist')"
      ],
      "metadata": {
        "id": "yqS5N72cpM9f"
      },
      "execution_count": null,
      "outputs": []
    },
    {
      "cell_type": "code",
      "source": [
        "sns.jointplot(x='total_bill',y='tip',data=tips,kind='hex',color='g')"
      ],
      "metadata": {
        "id": "dzBTNPKkqR25"
      },
      "execution_count": null,
      "outputs": []
    },
    {
      "cell_type": "code",
      "source": [
        "sns.jointplot(x='total_bill',y='tip',data=tips,kind='kde')"
      ],
      "metadata": {
        "id": "2GhJ3uRuqYrO"
      },
      "execution_count": null,
      "outputs": []
    },
    {
      "cell_type": "code",
      "source": [
        "sns.jointplot(x='total_bill',y='tip',data=tips,kind='scatter',color='green')"
      ],
      "metadata": {
        "id": "BzM-gDGgqcoe"
      },
      "execution_count": null,
      "outputs": []
    },
    {
      "cell_type": "code",
      "source": [
        "sns.pairplot(tips,hue='smoker')"
      ],
      "metadata": {
        "id": "47Ysa1F6qhXM"
      },
      "execution_count": null,
      "outputs": []
    },
    {
      "cell_type": "code",
      "source": [
        "sns.rugplot(tips['total_bill'])"
      ],
      "metadata": {
        "id": "QIaToJtNrozA"
      },
      "execution_count": null,
      "outputs": []
    },
    {
      "cell_type": "markdown",
      "source": [
        "# **Catagorical Plot**"
      ],
      "metadata": {
        "id": "Iuw8b30dttmV"
      }
    },
    {
      "cell_type": "code",
      "source": [
        "tips.head()"
      ],
      "metadata": {
        "id": "UTOORxcgdG1N"
      },
      "execution_count": null,
      "outputs": []
    },
    {
      "cell_type": "code",
      "source": [
        "sns.barplot(x='day',y='total_bill',data=tips,palette='bright',estimator=sum)"
      ],
      "metadata": {
        "id": "PNcB1tB0s5wx"
      },
      "execution_count": null,
      "outputs": []
    },
    {
      "cell_type": "code",
      "source": [
        "sns.barplot(x='smoker',y='total_bill',data=tips,palette='bright',estimator=sum)"
      ],
      "metadata": {
        "id": "pYAWna5jehAd"
      },
      "execution_count": null,
      "outputs": []
    },
    {
      "cell_type": "code",
      "source": [
        "sns.boxplot(x='day',y='total_bill',data=tips,palette='bright')"
      ],
      "metadata": {
        "id": "ID3iql7xej72"
      },
      "execution_count": null,
      "outputs": []
    },
    {
      "cell_type": "code",
      "source": [
        "sns.boxplot(x='day',y='total_bill',data=tips,palette='bright',hue='smoker')"
      ],
      "metadata": {
        "id": "rzMeIogJfLMF"
      },
      "execution_count": null,
      "outputs": []
    },
    {
      "cell_type": "code",
      "source": [
        "sns.violinplot(x='day',y='total_bill',data=tips,palette='bright',hue='smoker')"
      ],
      "metadata": {
        "id": "3RBfObX1fWPa"
      },
      "execution_count": null,
      "outputs": []
    },
    {
      "cell_type": "code",
      "source": [
        "sns.violinplot(x='day',y='total_bill',data=tips,palette='bright',hue='smoker',split=True)"
      ],
      "metadata": {
        "id": "o-vIWew4fzs8"
      },
      "execution_count": null,
      "outputs": []
    },
    {
      "cell_type": "code",
      "source": [
        "sns.stripplot(x='day',y='total_bill',data=tips,palette='bright',hue='sex')"
      ],
      "metadata": {
        "id": "3Z_qg8l1f6zb"
      },
      "execution_count": null,
      "outputs": []
    },
    {
      "cell_type": "code",
      "source": [
        "sns.stripplot(x='day',y='total_bill',data=tips,palette='bright',hue='sex',dodge=True)"
      ],
      "metadata": {
        "id": "RfvJRBFagZYx"
      },
      "execution_count": null,
      "outputs": []
    },
    {
      "cell_type": "code",
      "source": [
        "sns.swarmplot(x='day',y='total_bill',data=tips,palette='bright',hue='sex')"
      ],
      "metadata": {
        "id": "DWRQa9Ocgtym"
      },
      "execution_count": null,
      "outputs": []
    },
    {
      "cell_type": "code",
      "source": [
        "sns.violinplot(x='day',y='total_bill',data=tips,palette='bright')\n",
        "sns.swarmplot(x='day',y='total_bill',data=tips,color='black')"
      ],
      "metadata": {
        "id": "ttIPkgsCg8RU"
      },
      "execution_count": null,
      "outputs": []
    },
    {
      "cell_type": "code",
      "source": [
        "sns.catplot(x='day',y='total_bill',data=tips,palette='bright',kind='box')"
      ],
      "metadata": {
        "id": "tcOPFDmChFxM"
      },
      "execution_count": null,
      "outputs": []
    },
    {
      "cell_type": "code",
      "source": [
        "sns.catplot(x='day',y='total_bill',data=tips,palette='bright',kind='violin')"
      ],
      "metadata": {
        "id": "zNqBmd3-iOB3"
      },
      "execution_count": null,
      "outputs": []
    },
    {
      "cell_type": "code",
      "source": [
        "sns.catplot(x='day',y='total_bill',data=tips,palette='bright',kind='box')"
      ],
      "metadata": {
        "id": "K9nuAClIiXn9"
      },
      "execution_count": null,
      "outputs": []
    },
    {
      "cell_type": "code",
      "source": [
        "sns.catplot(x='day',y='total_bill',data=tips,palette='bright',kind='strip')"
      ],
      "metadata": {
        "id": "LbiiOd6WikV0"
      },
      "execution_count": null,
      "outputs": []
    },
    {
      "cell_type": "code",
      "source": [
        "sns.catplot(x='day',y='total_bill',data=tips,palette='bright',kind='point')"
      ],
      "metadata": {
        "id": "kDiKz5yPiomd"
      },
      "execution_count": null,
      "outputs": []
    },
    {
      "cell_type": "code",
      "source": [
        "sns.catplot(x='day',data=tips,palette='bright',kind='count')"
      ],
      "metadata": {
        "id": "UJRKqHfCjJ9N"
      },
      "execution_count": null,
      "outputs": []
    },
    {
      "cell_type": "code",
      "source": [
        "sns.catplot(x='day',y='total_bill',data=tips,palette='bright',kind='swarm')"
      ],
      "metadata": {
        "id": "U4mKUGJEjQiM"
      },
      "execution_count": null,
      "outputs": []
    }
  ]
}