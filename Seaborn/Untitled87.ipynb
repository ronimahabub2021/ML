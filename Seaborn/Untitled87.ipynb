{
  "nbformat": 4,
  "nbformat_minor": 0,
  "metadata": {
    "colab": {
      "private_outputs": true,
      "provenance": []
    },
    "kernelspec": {
      "name": "python3",
      "display_name": "Python 3"
    },
    "language_info": {
      "name": "python"
    }
  },
  "cells": [
    {
      "cell_type": "code",
      "execution_count": null,
      "metadata": {
        "id": "Dlg1mx8-EFJE"
      },
      "outputs": [],
      "source": [
        "import seaborn as sns"
      ]
    },
    {
      "cell_type": "markdown",
      "source": [
        "# **Advanced data visualization**"
      ],
      "metadata": {
        "id": "D1bMwGh1ESSr"
      }
    },
    {
      "cell_type": "code",
      "source": [
        "tips=sns.load_dataset('tips')"
      ],
      "metadata": {
        "id": "GiBJ95FtEIVI"
      },
      "execution_count": null,
      "outputs": []
    },
    {
      "cell_type": "code",
      "source": [
        "tips.head()"
      ],
      "metadata": {
        "id": "CQj_bG_cE29z"
      },
      "execution_count": null,
      "outputs": []
    },
    {
      "cell_type": "code",
      "source": [
        "#Matrix Plot\n",
        "tc=tips.corr(numeric_only=True)"
      ],
      "metadata": {
        "id": "q4qg7NSlE4ne"
      },
      "execution_count": null,
      "outputs": []
    },
    {
      "cell_type": "code",
      "source": [
        "sns.heatmap(tc,annot=True)"
      ],
      "metadata": {
        "id": "4dUlh5WBFZW5"
      },
      "execution_count": null,
      "outputs": []
    },
    {
      "cell_type": "code",
      "source": [
        "#যা পরিমাপ করে যে দুটি ভেরিয়েবলের মধ্যে কীভাবে সম্পর্ক রয়েছে।\n",
        "#Pearson correlation coefficient মান ১-এর কাছাকাছি হলে শক্তিশালী সম্পর্ক নির্দেশ করে, আর ০-এর কাছাকাছি হলে দুর্বল সম্পর্ক বোঝায়।\n",
        "tips.corr(numeric_only=True)"
      ],
      "metadata": {
        "id": "0-CE5pWoFpXX"
      },
      "execution_count": null,
      "outputs": []
    },
    {
      "cell_type": "code",
      "source": [
        "flights=sns.load_dataset('flights')"
      ],
      "metadata": {
        "id": "Fcd36KjVG7lm"
      },
      "execution_count": null,
      "outputs": []
    },
    {
      "cell_type": "code",
      "source": [
        "flights.head()"
      ],
      "metadata": {
        "id": "-mAKUbWFKK3J"
      },
      "execution_count": null,
      "outputs": []
    },
    {
      "cell_type": "code",
      "source": [
        "flights.corr(numeric_only=True)"
      ],
      "metadata": {
        "id": "brP3ES2zKZs7"
      },
      "execution_count": null,
      "outputs": []
    },
    {
      "cell_type": "code",
      "source": [
        "# বড় ডাটাসেট থেকে সহজেই তথ্য বিশ্লেষণ করা যায়\n",
        "# ডাটা সাজানো, গ্রুপিং, ফিল্টারিং করা সহজ\n",
        "fp=flights.pivot_table(index='month',columns='year',values='passengers')"
      ],
      "metadata": {
        "collapsed": true,
        "id": "SoltEHNuKeDj"
      },
      "execution_count": null,
      "outputs": []
    },
    {
      "cell_type": "code",
      "source": [
        "sns.heatmap(fp,linewidth=0.6)"
      ],
      "metadata": {
        "id": "5kvWwRiWK6pQ"
      },
      "execution_count": null,
      "outputs": []
    },
    {
      "cell_type": "code",
      "source": [
        "sns.clustermap(fp,linewidth=0.5)"
      ],
      "metadata": {
        "id": "wcdl6lfEMjaD"
      },
      "execution_count": null,
      "outputs": []
    },
    {
      "cell_type": "code",
      "source": [
        "iris=sns.load_dataset('iris')"
      ],
      "metadata": {
        "id": "0B3oLXgkNbQv"
      },
      "execution_count": null,
      "outputs": []
    },
    {
      "cell_type": "code",
      "source": [
        "iris.head()"
      ],
      "metadata": {
        "id": "WHXulBgJPfBT"
      },
      "execution_count": null,
      "outputs": []
    },
    {
      "cell_type": "code",
      "source": [
        "sns.pairplot(iris)"
      ],
      "metadata": {
        "id": "TwyLRVzSPgnj"
      },
      "execution_count": null,
      "outputs": []
    },
    {
      "cell_type": "code",
      "source": [
        "sns.PairGrid(iris)"
      ],
      "metadata": {
        "id": "bVy0xC-YPkOi"
      },
      "execution_count": null,
      "outputs": []
    },
    {
      "cell_type": "code",
      "source": [
        "g=sns.PairGrid(iris)\n",
        "g.map_diag(sns.histplot)\n",
        "g.map_upper(sns.scatterplot)\n",
        "g.map_lower(sns.kdeplot,cmap='plasma')"
      ],
      "metadata": {
        "id": "5O4ysuwVP0vT"
      },
      "execution_count": null,
      "outputs": []
    },
    {
      "cell_type": "code",
      "source": [
        "tips.head()"
      ],
      "metadata": {
        "id": "wUGPBqLCQAEe"
      },
      "execution_count": null,
      "outputs": []
    },
    {
      "cell_type": "code",
      "source": [
        "sns.FacetGrid(tips,col='time',row='smoker')"
      ],
      "metadata": {
        "id": "mtCdwVIKTCR7"
      },
      "execution_count": null,
      "outputs": []
    },
    {
      "cell_type": "code",
      "source": [
        "#কোনো ক্যাটাগরিক্যাল ভেরিয়েবলের জন্য আলাদা গ্রাফ তৈরি করতে চাইলে\n",
        "#একই ধরনের প্লট একাধিক সাবপ্লটে দেখানো যায়\n",
        "tg=sns.FacetGrid(tips,col='time',row='smoker',hue='sex')\n",
        "tg.map(sns.scatterplot,'total_bill','tip')"
      ],
      "metadata": {
        "id": "QTIgA6IUTI4G"
      },
      "execution_count": null,
      "outputs": []
    },
    {
      "cell_type": "markdown",
      "source": [
        "# **Regression Plot**"
      ],
      "metadata": {
        "id": "jPN0BhupVLnQ"
      }
    },
    {
      "cell_type": "code",
      "source": [
        "#lmplot\n",
        "sns.lmplot(data=tips,x='total_bill',y='tip',hue='sex',col='time',row='smoker')"
      ],
      "metadata": {
        "id": "BZ_hyJqsTRvJ"
      },
      "execution_count": null,
      "outputs": []
    },
    {
      "cell_type": "markdown",
      "source": [
        "# **Geospatial Data Visualization**\n",
        "Geospatial Data Visualization হল ভৌগলিক তথ্য বা জিআইএস ডেটা (Geographical Information System) এর মাধ্যমে ভৌগলিক উপাদান বা স্থানের তথ্য প্রদর্শন করার প্রক্রিয়া, যা সাধারণত মানচিত্র (maps)"
      ],
      "metadata": {
        "id": "DwoYkiT4nHfA"
      }
    },
    {
      "cell_type": "code",
      "source": [
        "import folium\n",
        "\n",
        "# ম্যাপের একটি শুরু পজিশন (latitude, longitude)\n",
        "map = folium.Map(location=[23.8103, 90.4125], zoom_start=12)\n",
        "\n",
        "# মার্কার যোগ করা\n",
        "folium.Marker([23.8103, 90.4125], popup='Dhaka').add_to(map)\n",
        "\n",
        "# ম্যাপ দেখানো\n",
        "map.save(\"dhaka_map.html\")\n"
      ],
      "metadata": {
        "id": "xipOsBiNVaNq"
      },
      "execution_count": null,
      "outputs": []
    },
    {
      "cell_type": "code",
      "source": [
        "from folium.plugins import HeatMap\n",
        "import folium\n",
        "\n",
        "# ডেটা পয়েন্ট\n",
        "data = [\n",
        "    [23.8103, 90.4125],\n",
        "    [23.8150, 90.4145],\n",
        "    [23.8200, 90.4160]\n",
        "]\n",
        "\n",
        "# ম্যাপ তৈরি করা\n",
        "map = folium.Map(location=[23.8103, 90.4125], zoom_start=13)\n",
        "\n",
        "# HeatMap যোগ করা\n",
        "HeatMap(data).add_to(map)\n",
        "\n",
        "# ম্যাপ সেভ করা\n",
        "map.save(\"heatmap_example.html\")\n"
      ],
      "metadata": {
        "id": "cMc-HCB0pPaf"
      },
      "execution_count": null,
      "outputs": []
    }
  ]
}